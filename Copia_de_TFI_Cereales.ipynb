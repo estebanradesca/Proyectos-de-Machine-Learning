{
  "nbformat": 4,
  "nbformat_minor": 0,
  "metadata": {
    "colab": {
      "provenance": []
    },
    "kernelspec": {
      "name": "python3",
      "display_name": "Python 3"
    },
    "language_info": {
      "name": "python"
    }
  },
  "cells": [
    {
      "cell_type": "markdown",
      "source": [
        "# Cereales\n"
      ],
      "metadata": {
        "id": "eUVPixWG66jE"
      }
    },
    {
      "cell_type": "markdown",
      "source": [
        "![download (1).jpeg](data:image/jpeg;base64,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)"
      ],
      "metadata": {
        "id": "qRV7RSE3PHzp"
      }
    },
    {
      "cell_type": "markdown",
      "source": [
        "¿Te gusta comer cerales? ¿Crees que es un alimento sano?\n",
        "\n",
        "Esta base de datos contiene información de contenido nutricional de diferentes marcas de cereales, junto con un rankeo realizado por los consumidores.\n",
        "\n",
        "En este deseafio le pedimos que construya un modelo predictivo que sea capaz de reponder:\n",
        "1. ¿ Cualés son las variables más relevantes a la hora de rankear un cereal según los consumidores?\n",
        "2. Considerando que existen 3 categorías (malo, decente, bueno), ¿en qué categoría caen las marcas \"Quaker oat Squares\", \"Trix\", \"Maypo\""
      ],
      "metadata": {
        "id": "wP5DvxH092Fk"
      }
    },
    {
      "cell_type": "code",
      "source": [
        "# Download Cereal dataset\n",
        "!wget --load-cookies /tmp/cookies.txt \"https://docs.google.com/uc?export=download&confirm=$(wget --quiet --save-cookies /tmp/cookies.txt --keep-session-cookies --no-check-certificate 'https://drive.google.com/uc?export=download&id=1Isw_QGasXKq7gleMQf2rd-fMih2qqwSR' -O- | sed -rn 's/.*confirm=([0-9A-Za-z_]+).*/\\1\\n/p')&id=1Isw_QGasXKq7gleMQf2rd-fMih2qqwSR\" -O cereal.csv && rm -rf /tmp/cookies.txt"
      ],
      "metadata": {
        "id": "rVSanAoe80JG",
        "colab": {
          "base_uri": "https://localhost:8080/"
        },
        "outputId": "9c650a40-d122-4df5-fcbf-e9ec8744e40b"
      },
      "execution_count": null,
      "outputs": [
        {
          "output_type": "stream",
          "name": "stdout",
          "text": [
            "--2023-02-16 10:51:27--  https://docs.google.com/uc?export=download&confirm=&id=1Isw_QGasXKq7gleMQf2rd-fMih2qqwSR\n",
            "Resolving docs.google.com (docs.google.com)... 142.251.163.113, 142.251.163.102, 142.251.163.101, ...\n",
            "Connecting to docs.google.com (docs.google.com)|142.251.163.113|:443... connected.\n",
            "HTTP request sent, awaiting response... 303 See Other\n",
            "Location: https://doc-00-98-docs.googleusercontent.com/docs/securesc/ha0ro937gcuc7l7deffksulhg5h7mbp1/u54a7su44t01lheos1rt5ovuph9bejqq/1676544675000/04187606118952679260/*/1Isw_QGasXKq7gleMQf2rd-fMih2qqwSR?e=download&uuid=dea32eed-c1d2-48d4-afd0-3bdf71a60e25 [following]\n",
            "Warning: wildcards not supported in HTTP.\n",
            "--2023-02-16 10:51:27--  https://doc-00-98-docs.googleusercontent.com/docs/securesc/ha0ro937gcuc7l7deffksulhg5h7mbp1/u54a7su44t01lheos1rt5ovuph9bejqq/1676544675000/04187606118952679260/*/1Isw_QGasXKq7gleMQf2rd-fMih2qqwSR?e=download&uuid=dea32eed-c1d2-48d4-afd0-3bdf71a60e25\n",
            "Resolving doc-00-98-docs.googleusercontent.com (doc-00-98-docs.googleusercontent.com)... 142.251.163.132, 2607:f8b0:4004:c1b::84\n",
            "Connecting to doc-00-98-docs.googleusercontent.com (doc-00-98-docs.googleusercontent.com)|142.251.163.132|:443... connected.\n",
            "HTTP request sent, awaiting response... 200 OK\n",
            "Length: 5063 (4.9K) [text/csv]\n",
            "Saving to: ‘cereal.csv’\n",
            "\n",
            "cereal.csv          100%[===================>]   4.94K  --.-KB/s    in 0s      \n",
            "\n",
            "2023-02-16 10:51:27 (37.3 MB/s) - ‘cereal.csv’ saved [5063/5063]\n",
            "\n"
          ]
        }
      ]
    },
    {
      "cell_type": "code",
      "execution_count": null,
      "metadata": {
        "id": "rHh18ohR60Jc"
      },
      "outputs": [],
      "source": [
        "import numpy as np\n",
        "import pandas as pd\n",
        "import seaborn as sns\n",
        "import matplotlib.pyplot as plt\n",
        "from matplotlib.pyplot import rcParams\n",
        "import os"
      ]
    },
    {
      "cell_type": "markdown",
      "source": [
        "Inciso 1"
      ],
      "metadata": {
        "id": "eBsiTgstCsEC"
      }
    },
    {
      "cell_type": "code",
      "source": [
        "data = pd.read_csv(\"cereal.csv\")\n",
        "data.head(5)"
      ],
      "metadata": {
        "id": "0GgZ2OLw8rOU",
        "colab": {
          "base_uri": "https://localhost:8080/",
          "height": 206
        },
        "outputId": "c89d663f-6be6-472d-d311-650004443ac4"
      },
      "execution_count": null,
      "outputs": [
        {
          "output_type": "execute_result",
          "data": {
            "text/plain": [
              "                        name mfr type  calories  protein  fat  sodium  fiber  \\\n",
              "0                  100% Bran   N    C        70        4    1     130   10.0   \n",
              "1          100% Natural Bran   Q    C       120        3    5      15    2.0   \n",
              "2                   All-Bran   K    C        70        4    1     260    9.0   \n",
              "3  All-Bran with Extra Fiber   K    C        50        4    0     140   14.0   \n",
              "4             Almond Delight   R    C       110        2    2     200    1.0   \n",
              "\n",
              "   carbo  sugars  potass  vitamins  shelf  weight  cups     rating  \n",
              "0    5.0       6     280        25      3     1.0  0.33  68.402973  \n",
              "1    8.0       8     135         0      3     1.0  1.00  33.983679  \n",
              "2    7.0       5     320        25      3     1.0  0.33  59.425505  \n",
              "3    8.0       0     330        25      3     1.0  0.50  93.704912  \n",
              "4   14.0       8      -1        25      3     1.0  0.75  34.384843  "
            ],
            "text/html": [
              "\n",
              "  <div id=\"df-264459e3-3d6f-45ec-a098-8d5a9f7bf2b7\">\n",
              "    <div class=\"colab-df-container\">\n",
              "      <div>\n",
              "<style scoped>\n",
              "    .dataframe tbody tr th:only-of-type {\n",
              "        vertical-align: middle;\n",
              "    }\n",
              "\n",
              "    .dataframe tbody tr th {\n",
              "        vertical-align: top;\n",
              "    }\n",
              "\n",
              "    .dataframe thead th {\n",
              "        text-align: right;\n",
              "    }\n",
              "</style>\n",
              "<table border=\"1\" class=\"dataframe\">\n",
              "  <thead>\n",
              "    <tr style=\"text-align: right;\">\n",
              "      <th></th>\n",
              "      <th>name</th>\n",
              "      <th>mfr</th>\n",
              "      <th>type</th>\n",
              "      <th>calories</th>\n",
              "      <th>protein</th>\n",
              "      <th>fat</th>\n",
              "      <th>sodium</th>\n",
              "      <th>fiber</th>\n",
              "      <th>carbo</th>\n",
              "      <th>sugars</th>\n",
              "      <th>potass</th>\n",
              "      <th>vitamins</th>\n",
              "      <th>shelf</th>\n",
              "      <th>weight</th>\n",
              "      <th>cups</th>\n",
              "      <th>rating</th>\n",
              "    </tr>\n",
              "  </thead>\n",
              "  <tbody>\n",
              "    <tr>\n",
              "      <th>0</th>\n",
              "      <td>100% Bran</td>\n",
              "      <td>N</td>\n",
              "      <td>C</td>\n",
              "      <td>70</td>\n",
              "      <td>4</td>\n",
              "      <td>1</td>\n",
              "      <td>130</td>\n",
              "      <td>10.0</td>\n",
              "      <td>5.0</td>\n",
              "      <td>6</td>\n",
              "      <td>280</td>\n",
              "      <td>25</td>\n",
              "      <td>3</td>\n",
              "      <td>1.0</td>\n",
              "      <td>0.33</td>\n",
              "      <td>68.402973</td>\n",
              "    </tr>\n",
              "    <tr>\n",
              "      <th>1</th>\n",
              "      <td>100% Natural Bran</td>\n",
              "      <td>Q</td>\n",
              "      <td>C</td>\n",
              "      <td>120</td>\n",
              "      <td>3</td>\n",
              "      <td>5</td>\n",
              "      <td>15</td>\n",
              "      <td>2.0</td>\n",
              "      <td>8.0</td>\n",
              "      <td>8</td>\n",
              "      <td>135</td>\n",
              "      <td>0</td>\n",
              "      <td>3</td>\n",
              "      <td>1.0</td>\n",
              "      <td>1.00</td>\n",
              "      <td>33.983679</td>\n",
              "    </tr>\n",
              "    <tr>\n",
              "      <th>2</th>\n",
              "      <td>All-Bran</td>\n",
              "      <td>K</td>\n",
              "      <td>C</td>\n",
              "      <td>70</td>\n",
              "      <td>4</td>\n",
              "      <td>1</td>\n",
              "      <td>260</td>\n",
              "      <td>9.0</td>\n",
              "      <td>7.0</td>\n",
              "      <td>5</td>\n",
              "      <td>320</td>\n",
              "      <td>25</td>\n",
              "      <td>3</td>\n",
              "      <td>1.0</td>\n",
              "      <td>0.33</td>\n",
              "      <td>59.425505</td>\n",
              "    </tr>\n",
              "    <tr>\n",
              "      <th>3</th>\n",
              "      <td>All-Bran with Extra Fiber</td>\n",
              "      <td>K</td>\n",
              "      <td>C</td>\n",
              "      <td>50</td>\n",
              "      <td>4</td>\n",
              "      <td>0</td>\n",
              "      <td>140</td>\n",
              "      <td>14.0</td>\n",
              "      <td>8.0</td>\n",
              "      <td>0</td>\n",
              "      <td>330</td>\n",
              "      <td>25</td>\n",
              "      <td>3</td>\n",
              "      <td>1.0</td>\n",
              "      <td>0.50</td>\n",
              "      <td>93.704912</td>\n",
              "    </tr>\n",
              "    <tr>\n",
              "      <th>4</th>\n",
              "      <td>Almond Delight</td>\n",
              "      <td>R</td>\n",
              "      <td>C</td>\n",
              "      <td>110</td>\n",
              "      <td>2</td>\n",
              "      <td>2</td>\n",
              "      <td>200</td>\n",
              "      <td>1.0</td>\n",
              "      <td>14.0</td>\n",
              "      <td>8</td>\n",
              "      <td>-1</td>\n",
              "      <td>25</td>\n",
              "      <td>3</td>\n",
              "      <td>1.0</td>\n",
              "      <td>0.75</td>\n",
              "      <td>34.384843</td>\n",
              "    </tr>\n",
              "  </tbody>\n",
              "</table>\n",
              "</div>\n",
              "      <button class=\"colab-df-convert\" onclick=\"convertToInteractive('df-264459e3-3d6f-45ec-a098-8d5a9f7bf2b7')\"\n",
              "              title=\"Convert this dataframe to an interactive table.\"\n",
              "              style=\"display:none;\">\n",
              "        \n",
              "  <svg xmlns=\"http://www.w3.org/2000/svg\" height=\"24px\"viewBox=\"0 0 24 24\"\n",
              "       width=\"24px\">\n",
              "    <path d=\"M0 0h24v24H0V0z\" fill=\"none\"/>\n",
              "    <path d=\"M18.56 5.44l.94 2.06.94-2.06 2.06-.94-2.06-.94-.94-2.06-.94 2.06-2.06.94zm-11 1L8.5 8.5l.94-2.06 2.06-.94-2.06-.94L8.5 2.5l-.94 2.06-2.06.94zm10 10l.94 2.06.94-2.06 2.06-.94-2.06-.94-.94-2.06-.94 2.06-2.06.94z\"/><path d=\"M17.41 7.96l-1.37-1.37c-.4-.4-.92-.59-1.43-.59-.52 0-1.04.2-1.43.59L10.3 9.45l-7.72 7.72c-.78.78-.78 2.05 0 2.83L4 21.41c.39.39.9.59 1.41.59.51 0 1.02-.2 1.41-.59l7.78-7.78 2.81-2.81c.8-.78.8-2.07 0-2.86zM5.41 20L4 18.59l7.72-7.72 1.47 1.35L5.41 20z\"/>\n",
              "  </svg>\n",
              "      </button>\n",
              "      \n",
              "  <style>\n",
              "    .colab-df-container {\n",
              "      display:flex;\n",
              "      flex-wrap:wrap;\n",
              "      gap: 12px;\n",
              "    }\n",
              "\n",
              "    .colab-df-convert {\n",
              "      background-color: #E8F0FE;\n",
              "      border: none;\n",
              "      border-radius: 50%;\n",
              "      cursor: pointer;\n",
              "      display: none;\n",
              "      fill: #1967D2;\n",
              "      height: 32px;\n",
              "      padding: 0 0 0 0;\n",
              "      width: 32px;\n",
              "    }\n",
              "\n",
              "    .colab-df-convert:hover {\n",
              "      background-color: #E2EBFA;\n",
              "      box-shadow: 0px 1px 2px rgba(60, 64, 67, 0.3), 0px 1px 3px 1px rgba(60, 64, 67, 0.15);\n",
              "      fill: #174EA6;\n",
              "    }\n",
              "\n",
              "    [theme=dark] .colab-df-convert {\n",
              "      background-color: #3B4455;\n",
              "      fill: #D2E3FC;\n",
              "    }\n",
              "\n",
              "    [theme=dark] .colab-df-convert:hover {\n",
              "      background-color: #434B5C;\n",
              "      box-shadow: 0px 1px 3px 1px rgba(0, 0, 0, 0.15);\n",
              "      filter: drop-shadow(0px 1px 2px rgba(0, 0, 0, 0.3));\n",
              "      fill: #FFFFFF;\n",
              "    }\n",
              "  </style>\n",
              "\n",
              "      <script>\n",
              "        const buttonEl =\n",
              "          document.querySelector('#df-264459e3-3d6f-45ec-a098-8d5a9f7bf2b7 button.colab-df-convert');\n",
              "        buttonEl.style.display =\n",
              "          google.colab.kernel.accessAllowed ? 'block' : 'none';\n",
              "\n",
              "        async function convertToInteractive(key) {\n",
              "          const element = document.querySelector('#df-264459e3-3d6f-45ec-a098-8d5a9f7bf2b7');\n",
              "          const dataTable =\n",
              "            await google.colab.kernel.invokeFunction('convertToInteractive',\n",
              "                                                     [key], {});\n",
              "          if (!dataTable) return;\n",
              "\n",
              "          const docLinkHtml = 'Like what you see? Visit the ' +\n",
              "            '<a target=\"_blank\" href=https://colab.research.google.com/notebooks/data_table.ipynb>data table notebook</a>'\n",
              "            + ' to learn more about interactive tables.';\n",
              "          element.innerHTML = '';\n",
              "          dataTable['output_type'] = 'display_data';\n",
              "          await google.colab.output.renderOutput(dataTable, element);\n",
              "          const docLink = document.createElement('div');\n",
              "          docLink.innerHTML = docLinkHtml;\n",
              "          element.appendChild(docLink);\n",
              "        }\n",
              "      </script>\n",
              "    </div>\n",
              "  </div>\n",
              "  "
            ]
          },
          "metadata": {},
          "execution_count": 3
        }
      ]
    },
    {
      "cell_type": "code",
      "source": [
        "data.describe()"
      ],
      "metadata": {
        "colab": {
          "base_uri": "https://localhost:8080/",
          "height": 300
        },
        "id": "mxwcO0HSgHAi",
        "outputId": "769ec059-6ed2-43e2-bd82-c3e323cabf15"
      },
      "execution_count": null,
      "outputs": [
        {
          "output_type": "execute_result",
          "data": {
            "text/plain": [
              "         calories    protein        fat      sodium      fiber      carbo  \\\n",
              "count   77.000000  77.000000  77.000000   77.000000  77.000000  77.000000   \n",
              "mean   106.883117   2.545455   1.012987  159.675325   2.151948  14.597403   \n",
              "std     19.484119   1.094790   1.006473   83.832295   2.383364   4.278956   \n",
              "min     50.000000   1.000000   0.000000    0.000000   0.000000  -1.000000   \n",
              "25%    100.000000   2.000000   0.000000  130.000000   1.000000  12.000000   \n",
              "50%    110.000000   3.000000   1.000000  180.000000   2.000000  14.000000   \n",
              "75%    110.000000   3.000000   2.000000  210.000000   3.000000  17.000000   \n",
              "max    160.000000   6.000000   5.000000  320.000000  14.000000  23.000000   \n",
              "\n",
              "          sugars      potass    vitamins      shelf     weight       cups  \\\n",
              "count  77.000000   77.000000   77.000000  77.000000  77.000000  77.000000   \n",
              "mean    6.922078   96.077922   28.246753   2.207792   1.029610   0.821039   \n",
              "std     4.444885   71.286813   22.342523   0.832524   0.150477   0.232716   \n",
              "min    -1.000000   -1.000000    0.000000   1.000000   0.500000   0.250000   \n",
              "25%     3.000000   40.000000   25.000000   1.000000   1.000000   0.670000   \n",
              "50%     7.000000   90.000000   25.000000   2.000000   1.000000   0.750000   \n",
              "75%    11.000000  120.000000   25.000000   3.000000   1.000000   1.000000   \n",
              "max    15.000000  330.000000  100.000000   3.000000   1.500000   1.500000   \n",
              "\n",
              "          rating  \n",
              "count  77.000000  \n",
              "mean   42.665705  \n",
              "std    14.047289  \n",
              "min    18.042851  \n",
              "25%    33.174094  \n",
              "50%    40.400208  \n",
              "75%    50.828392  \n",
              "max    93.704912  "
            ],
            "text/html": [
              "\n",
              "  <div id=\"df-9d531f81-c248-4150-8b9e-588ad2873638\">\n",
              "    <div class=\"colab-df-container\">\n",
              "      <div>\n",
              "<style scoped>\n",
              "    .dataframe tbody tr th:only-of-type {\n",
              "        vertical-align: middle;\n",
              "    }\n",
              "\n",
              "    .dataframe tbody tr th {\n",
              "        vertical-align: top;\n",
              "    }\n",
              "\n",
              "    .dataframe thead th {\n",
              "        text-align: right;\n",
              "    }\n",
              "</style>\n",
              "<table border=\"1\" class=\"dataframe\">\n",
              "  <thead>\n",
              "    <tr style=\"text-align: right;\">\n",
              "      <th></th>\n",
              "      <th>calories</th>\n",
              "      <th>protein</th>\n",
              "      <th>fat</th>\n",
              "      <th>sodium</th>\n",
              "      <th>fiber</th>\n",
              "      <th>carbo</th>\n",
              "      <th>sugars</th>\n",
              "      <th>potass</th>\n",
              "      <th>vitamins</th>\n",
              "      <th>shelf</th>\n",
              "      <th>weight</th>\n",
              "      <th>cups</th>\n",
              "      <th>rating</th>\n",
              "    </tr>\n",
              "  </thead>\n",
              "  <tbody>\n",
              "    <tr>\n",
              "      <th>count</th>\n",
              "      <td>77.000000</td>\n",
              "      <td>77.000000</td>\n",
              "      <td>77.000000</td>\n",
              "      <td>77.000000</td>\n",
              "      <td>77.000000</td>\n",
              "      <td>77.000000</td>\n",
              "      <td>77.000000</td>\n",
              "      <td>77.000000</td>\n",
              "      <td>77.000000</td>\n",
              "      <td>77.000000</td>\n",
              "      <td>77.000000</td>\n",
              "      <td>77.000000</td>\n",
              "      <td>77.000000</td>\n",
              "    </tr>\n",
              "    <tr>\n",
              "      <th>mean</th>\n",
              "      <td>106.883117</td>\n",
              "      <td>2.545455</td>\n",
              "      <td>1.012987</td>\n",
              "      <td>159.675325</td>\n",
              "      <td>2.151948</td>\n",
              "      <td>14.597403</td>\n",
              "      <td>6.922078</td>\n",
              "      <td>96.077922</td>\n",
              "      <td>28.246753</td>\n",
              "      <td>2.207792</td>\n",
              "      <td>1.029610</td>\n",
              "      <td>0.821039</td>\n",
              "      <td>42.665705</td>\n",
              "    </tr>\n",
              "    <tr>\n",
              "      <th>std</th>\n",
              "      <td>19.484119</td>\n",
              "      <td>1.094790</td>\n",
              "      <td>1.006473</td>\n",
              "      <td>83.832295</td>\n",
              "      <td>2.383364</td>\n",
              "      <td>4.278956</td>\n",
              "      <td>4.444885</td>\n",
              "      <td>71.286813</td>\n",
              "      <td>22.342523</td>\n",
              "      <td>0.832524</td>\n",
              "      <td>0.150477</td>\n",
              "      <td>0.232716</td>\n",
              "      <td>14.047289</td>\n",
              "    </tr>\n",
              "    <tr>\n",
              "      <th>min</th>\n",
              "      <td>50.000000</td>\n",
              "      <td>1.000000</td>\n",
              "      <td>0.000000</td>\n",
              "      <td>0.000000</td>\n",
              "      <td>0.000000</td>\n",
              "      <td>-1.000000</td>\n",
              "      <td>-1.000000</td>\n",
              "      <td>-1.000000</td>\n",
              "      <td>0.000000</td>\n",
              "      <td>1.000000</td>\n",
              "      <td>0.500000</td>\n",
              "      <td>0.250000</td>\n",
              "      <td>18.042851</td>\n",
              "    </tr>\n",
              "    <tr>\n",
              "      <th>25%</th>\n",
              "      <td>100.000000</td>\n",
              "      <td>2.000000</td>\n",
              "      <td>0.000000</td>\n",
              "      <td>130.000000</td>\n",
              "      <td>1.000000</td>\n",
              "      <td>12.000000</td>\n",
              "      <td>3.000000</td>\n",
              "      <td>40.000000</td>\n",
              "      <td>25.000000</td>\n",
              "      <td>1.000000</td>\n",
              "      <td>1.000000</td>\n",
              "      <td>0.670000</td>\n",
              "      <td>33.174094</td>\n",
              "    </tr>\n",
              "    <tr>\n",
              "      <th>50%</th>\n",
              "      <td>110.000000</td>\n",
              "      <td>3.000000</td>\n",
              "      <td>1.000000</td>\n",
              "      <td>180.000000</td>\n",
              "      <td>2.000000</td>\n",
              "      <td>14.000000</td>\n",
              "      <td>7.000000</td>\n",
              "      <td>90.000000</td>\n",
              "      <td>25.000000</td>\n",
              "      <td>2.000000</td>\n",
              "      <td>1.000000</td>\n",
              "      <td>0.750000</td>\n",
              "      <td>40.400208</td>\n",
              "    </tr>\n",
              "    <tr>\n",
              "      <th>75%</th>\n",
              "      <td>110.000000</td>\n",
              "      <td>3.000000</td>\n",
              "      <td>2.000000</td>\n",
              "      <td>210.000000</td>\n",
              "      <td>3.000000</td>\n",
              "      <td>17.000000</td>\n",
              "      <td>11.000000</td>\n",
              "      <td>120.000000</td>\n",
              "      <td>25.000000</td>\n",
              "      <td>3.000000</td>\n",
              "      <td>1.000000</td>\n",
              "      <td>1.000000</td>\n",
              "      <td>50.828392</td>\n",
              "    </tr>\n",
              "    <tr>\n",
              "      <th>max</th>\n",
              "      <td>160.000000</td>\n",
              "      <td>6.000000</td>\n",
              "      <td>5.000000</td>\n",
              "      <td>320.000000</td>\n",
              "      <td>14.000000</td>\n",
              "      <td>23.000000</td>\n",
              "      <td>15.000000</td>\n",
              "      <td>330.000000</td>\n",
              "      <td>100.000000</td>\n",
              "      <td>3.000000</td>\n",
              "      <td>1.500000</td>\n",
              "      <td>1.500000</td>\n",
              "      <td>93.704912</td>\n",
              "    </tr>\n",
              "  </tbody>\n",
              "</table>\n",
              "</div>\n",
              "      <button class=\"colab-df-convert\" onclick=\"convertToInteractive('df-9d531f81-c248-4150-8b9e-588ad2873638')\"\n",
              "              title=\"Convert this dataframe to an interactive table.\"\n",
              "              style=\"display:none;\">\n",
              "        \n",
              "  <svg xmlns=\"http://www.w3.org/2000/svg\" height=\"24px\"viewBox=\"0 0 24 24\"\n",
              "       width=\"24px\">\n",
              "    <path d=\"M0 0h24v24H0V0z\" fill=\"none\"/>\n",
              "    <path d=\"M18.56 5.44l.94 2.06.94-2.06 2.06-.94-2.06-.94-.94-2.06-.94 2.06-2.06.94zm-11 1L8.5 8.5l.94-2.06 2.06-.94-2.06-.94L8.5 2.5l-.94 2.06-2.06.94zm10 10l.94 2.06.94-2.06 2.06-.94-2.06-.94-.94-2.06-.94 2.06-2.06.94z\"/><path d=\"M17.41 7.96l-1.37-1.37c-.4-.4-.92-.59-1.43-.59-.52 0-1.04.2-1.43.59L10.3 9.45l-7.72 7.72c-.78.78-.78 2.05 0 2.83L4 21.41c.39.39.9.59 1.41.59.51 0 1.02-.2 1.41-.59l7.78-7.78 2.81-2.81c.8-.78.8-2.07 0-2.86zM5.41 20L4 18.59l7.72-7.72 1.47 1.35L5.41 20z\"/>\n",
              "  </svg>\n",
              "      </button>\n",
              "      \n",
              "  <style>\n",
              "    .colab-df-container {\n",
              "      display:flex;\n",
              "      flex-wrap:wrap;\n",
              "      gap: 12px;\n",
              "    }\n",
              "\n",
              "    .colab-df-convert {\n",
              "      background-color: #E8F0FE;\n",
              "      border: none;\n",
              "      border-radius: 50%;\n",
              "      cursor: pointer;\n",
              "      display: none;\n",
              "      fill: #1967D2;\n",
              "      height: 32px;\n",
              "      padding: 0 0 0 0;\n",
              "      width: 32px;\n",
              "    }\n",
              "\n",
              "    .colab-df-convert:hover {\n",
              "      background-color: #E2EBFA;\n",
              "      box-shadow: 0px 1px 2px rgba(60, 64, 67, 0.3), 0px 1px 3px 1px rgba(60, 64, 67, 0.15);\n",
              "      fill: #174EA6;\n",
              "    }\n",
              "\n",
              "    [theme=dark] .colab-df-convert {\n",
              "      background-color: #3B4455;\n",
              "      fill: #D2E3FC;\n",
              "    }\n",
              "\n",
              "    [theme=dark] .colab-df-convert:hover {\n",
              "      background-color: #434B5C;\n",
              "      box-shadow: 0px 1px 3px 1px rgba(0, 0, 0, 0.15);\n",
              "      filter: drop-shadow(0px 1px 2px rgba(0, 0, 0, 0.3));\n",
              "      fill: #FFFFFF;\n",
              "    }\n",
              "  </style>\n",
              "\n",
              "      <script>\n",
              "        const buttonEl =\n",
              "          document.querySelector('#df-9d531f81-c248-4150-8b9e-588ad2873638 button.colab-df-convert');\n",
              "        buttonEl.style.display =\n",
              "          google.colab.kernel.accessAllowed ? 'block' : 'none';\n",
              "\n",
              "        async function convertToInteractive(key) {\n",
              "          const element = document.querySelector('#df-9d531f81-c248-4150-8b9e-588ad2873638');\n",
              "          const dataTable =\n",
              "            await google.colab.kernel.invokeFunction('convertToInteractive',\n",
              "                                                     [key], {});\n",
              "          if (!dataTable) return;\n",
              "\n",
              "          const docLinkHtml = 'Like what you see? Visit the ' +\n",
              "            '<a target=\"_blank\" href=https://colab.research.google.com/notebooks/data_table.ipynb>data table notebook</a>'\n",
              "            + ' to learn more about interactive tables.';\n",
              "          element.innerHTML = '';\n",
              "          dataTable['output_type'] = 'display_data';\n",
              "          await google.colab.output.renderOutput(dataTable, element);\n",
              "          const docLink = document.createElement('div');\n",
              "          docLink.innerHTML = docLinkHtml;\n",
              "          element.appendChild(docLink);\n",
              "        }\n",
              "      </script>\n",
              "    </div>\n",
              "  </div>\n",
              "  "
            ]
          },
          "metadata": {},
          "execution_count": 4
        }
      ]
    },
    {
      "cell_type": "code",
      "source": [
        "data.shape"
      ],
      "metadata": {
        "colab": {
          "base_uri": "https://localhost:8080/"
        },
        "id": "eVI1yJRmAtCw",
        "outputId": "5bf0e0b3-0dd2-49ae-b0d0-c521dbc7402a"
      },
      "execution_count": null,
      "outputs": [
        {
          "output_type": "execute_result",
          "data": {
            "text/plain": [
              "(77, 16)"
            ]
          },
          "metadata": {},
          "execution_count": 5
        }
      ]
    },
    {
      "cell_type": "code",
      "source": [
        "data1 = data[(data.carbo >= 0) & (data.sugars >= 0) & (data.potass >= 0)]\n",
        "data1.describe()"
      ],
      "metadata": {
        "colab": {
          "base_uri": "https://localhost:8080/",
          "height": 300
        },
        "id": "ToRmZpE2Y3BZ",
        "outputId": "39bb470d-7c10-46e2-9e73-1cd0abc79b8a"
      },
      "execution_count": null,
      "outputs": [
        {
          "output_type": "execute_result",
          "data": {
            "text/plain": [
              "         calories    protein        fat      sodium      fiber      carbo  \\\n",
              "count   74.000000  74.000000  74.000000   74.000000  74.000000  74.000000   \n",
              "mean   107.027027   2.513514   1.000000  162.364865   2.175676  14.729730   \n",
              "std     19.843893   1.075802   1.006826   82.769787   2.423391   3.891675   \n",
              "min     50.000000   1.000000   0.000000    0.000000   0.000000   5.000000   \n",
              "25%    100.000000   2.000000   0.000000  135.000000   0.250000  12.000000   \n",
              "50%    110.000000   2.500000   1.000000  180.000000   2.000000  14.500000   \n",
              "75%    110.000000   3.000000   1.000000  217.500000   3.000000  17.000000   \n",
              "max    160.000000   6.000000   5.000000  320.000000  14.000000  23.000000   \n",
              "\n",
              "          sugars      potass    vitamins      shelf     weight       cups  \\\n",
              "count  74.000000   74.000000   74.000000  74.000000  74.000000  74.000000   \n",
              "mean    7.108108   98.513514   29.054054   2.216216   1.030811   0.821622   \n",
              "std     4.359111   70.878681   22.294352   0.832067   0.153416   0.235715   \n",
              "min     0.000000   15.000000    0.000000   1.000000   0.500000   0.250000   \n",
              "25%     3.000000   41.250000   25.000000   1.250000   1.000000   0.670000   \n",
              "50%     7.000000   90.000000   25.000000   2.000000   1.000000   0.750000   \n",
              "75%    11.000000  120.000000   25.000000   3.000000   1.000000   1.000000   \n",
              "max    15.000000  330.000000  100.000000   3.000000   1.500000   1.500000   \n",
              "\n",
              "          rating  \n",
              "count  74.000000  \n",
              "mean   42.371787  \n",
              "std    14.033712  \n",
              "min    18.042851  \n",
              "25%    32.449210  \n",
              "50%    40.253086  \n",
              "75%    50.520611  \n",
              "max    93.704912  "
            ],
            "text/html": [
              "\n",
              "  <div id=\"df-34fc594a-ed04-4492-9d2c-243020bc56b5\">\n",
              "    <div class=\"colab-df-container\">\n",
              "      <div>\n",
              "<style scoped>\n",
              "    .dataframe tbody tr th:only-of-type {\n",
              "        vertical-align: middle;\n",
              "    }\n",
              "\n",
              "    .dataframe tbody tr th {\n",
              "        vertical-align: top;\n",
              "    }\n",
              "\n",
              "    .dataframe thead th {\n",
              "        text-align: right;\n",
              "    }\n",
              "</style>\n",
              "<table border=\"1\" class=\"dataframe\">\n",
              "  <thead>\n",
              "    <tr style=\"text-align: right;\">\n",
              "      <th></th>\n",
              "      <th>calories</th>\n",
              "      <th>protein</th>\n",
              "      <th>fat</th>\n",
              "      <th>sodium</th>\n",
              "      <th>fiber</th>\n",
              "      <th>carbo</th>\n",
              "      <th>sugars</th>\n",
              "      <th>potass</th>\n",
              "      <th>vitamins</th>\n",
              "      <th>shelf</th>\n",
              "      <th>weight</th>\n",
              "      <th>cups</th>\n",
              "      <th>rating</th>\n",
              "    </tr>\n",
              "  </thead>\n",
              "  <tbody>\n",
              "    <tr>\n",
              "      <th>count</th>\n",
              "      <td>74.000000</td>\n",
              "      <td>74.000000</td>\n",
              "      <td>74.000000</td>\n",
              "      <td>74.000000</td>\n",
              "      <td>74.000000</td>\n",
              "      <td>74.000000</td>\n",
              "      <td>74.000000</td>\n",
              "      <td>74.000000</td>\n",
              "      <td>74.000000</td>\n",
              "      <td>74.000000</td>\n",
              "      <td>74.000000</td>\n",
              "      <td>74.000000</td>\n",
              "      <td>74.000000</td>\n",
              "    </tr>\n",
              "    <tr>\n",
              "      <th>mean</th>\n",
              "      <td>107.027027</td>\n",
              "      <td>2.513514</td>\n",
              "      <td>1.000000</td>\n",
              "      <td>162.364865</td>\n",
              "      <td>2.175676</td>\n",
              "      <td>14.729730</td>\n",
              "      <td>7.108108</td>\n",
              "      <td>98.513514</td>\n",
              "      <td>29.054054</td>\n",
              "      <td>2.216216</td>\n",
              "      <td>1.030811</td>\n",
              "      <td>0.821622</td>\n",
              "      <td>42.371787</td>\n",
              "    </tr>\n",
              "    <tr>\n",
              "      <th>std</th>\n",
              "      <td>19.843893</td>\n",
              "      <td>1.075802</td>\n",
              "      <td>1.006826</td>\n",
              "      <td>82.769787</td>\n",
              "      <td>2.423391</td>\n",
              "      <td>3.891675</td>\n",
              "      <td>4.359111</td>\n",
              "      <td>70.878681</td>\n",
              "      <td>22.294352</td>\n",
              "      <td>0.832067</td>\n",
              "      <td>0.153416</td>\n",
              "      <td>0.235715</td>\n",
              "      <td>14.033712</td>\n",
              "    </tr>\n",
              "    <tr>\n",
              "      <th>min</th>\n",
              "      <td>50.000000</td>\n",
              "      <td>1.000000</td>\n",
              "      <td>0.000000</td>\n",
              "      <td>0.000000</td>\n",
              "      <td>0.000000</td>\n",
              "      <td>5.000000</td>\n",
              "      <td>0.000000</td>\n",
              "      <td>15.000000</td>\n",
              "      <td>0.000000</td>\n",
              "      <td>1.000000</td>\n",
              "      <td>0.500000</td>\n",
              "      <td>0.250000</td>\n",
              "      <td>18.042851</td>\n",
              "    </tr>\n",
              "    <tr>\n",
              "      <th>25%</th>\n",
              "      <td>100.000000</td>\n",
              "      <td>2.000000</td>\n",
              "      <td>0.000000</td>\n",
              "      <td>135.000000</td>\n",
              "      <td>0.250000</td>\n",
              "      <td>12.000000</td>\n",
              "      <td>3.000000</td>\n",
              "      <td>41.250000</td>\n",
              "      <td>25.000000</td>\n",
              "      <td>1.250000</td>\n",
              "      <td>1.000000</td>\n",
              "      <td>0.670000</td>\n",
              "      <td>32.449210</td>\n",
              "    </tr>\n",
              "    <tr>\n",
              "      <th>50%</th>\n",
              "      <td>110.000000</td>\n",
              "      <td>2.500000</td>\n",
              "      <td>1.000000</td>\n",
              "      <td>180.000000</td>\n",
              "      <td>2.000000</td>\n",
              "      <td>14.500000</td>\n",
              "      <td>7.000000</td>\n",
              "      <td>90.000000</td>\n",
              "      <td>25.000000</td>\n",
              "      <td>2.000000</td>\n",
              "      <td>1.000000</td>\n",
              "      <td>0.750000</td>\n",
              "      <td>40.253086</td>\n",
              "    </tr>\n",
              "    <tr>\n",
              "      <th>75%</th>\n",
              "      <td>110.000000</td>\n",
              "      <td>3.000000</td>\n",
              "      <td>1.000000</td>\n",
              "      <td>217.500000</td>\n",
              "      <td>3.000000</td>\n",
              "      <td>17.000000</td>\n",
              "      <td>11.000000</td>\n",
              "      <td>120.000000</td>\n",
              "      <td>25.000000</td>\n",
              "      <td>3.000000</td>\n",
              "      <td>1.000000</td>\n",
              "      <td>1.000000</td>\n",
              "      <td>50.520611</td>\n",
              "    </tr>\n",
              "    <tr>\n",
              "      <th>max</th>\n",
              "      <td>160.000000</td>\n",
              "      <td>6.000000</td>\n",
              "      <td>5.000000</td>\n",
              "      <td>320.000000</td>\n",
              "      <td>14.000000</td>\n",
              "      <td>23.000000</td>\n",
              "      <td>15.000000</td>\n",
              "      <td>330.000000</td>\n",
              "      <td>100.000000</td>\n",
              "      <td>3.000000</td>\n",
              "      <td>1.500000</td>\n",
              "      <td>1.500000</td>\n",
              "      <td>93.704912</td>\n",
              "    </tr>\n",
              "  </tbody>\n",
              "</table>\n",
              "</div>\n",
              "      <button class=\"colab-df-convert\" onclick=\"convertToInteractive('df-34fc594a-ed04-4492-9d2c-243020bc56b5')\"\n",
              "              title=\"Convert this dataframe to an interactive table.\"\n",
              "              style=\"display:none;\">\n",
              "        \n",
              "  <svg xmlns=\"http://www.w3.org/2000/svg\" height=\"24px\"viewBox=\"0 0 24 24\"\n",
              "       width=\"24px\">\n",
              "    <path d=\"M0 0h24v24H0V0z\" fill=\"none\"/>\n",
              "    <path d=\"M18.56 5.44l.94 2.06.94-2.06 2.06-.94-2.06-.94-.94-2.06-.94 2.06-2.06.94zm-11 1L8.5 8.5l.94-2.06 2.06-.94-2.06-.94L8.5 2.5l-.94 2.06-2.06.94zm10 10l.94 2.06.94-2.06 2.06-.94-2.06-.94-.94-2.06-.94 2.06-2.06.94z\"/><path d=\"M17.41 7.96l-1.37-1.37c-.4-.4-.92-.59-1.43-.59-.52 0-1.04.2-1.43.59L10.3 9.45l-7.72 7.72c-.78.78-.78 2.05 0 2.83L4 21.41c.39.39.9.59 1.41.59.51 0 1.02-.2 1.41-.59l7.78-7.78 2.81-2.81c.8-.78.8-2.07 0-2.86zM5.41 20L4 18.59l7.72-7.72 1.47 1.35L5.41 20z\"/>\n",
              "  </svg>\n",
              "      </button>\n",
              "      \n",
              "  <style>\n",
              "    .colab-df-container {\n",
              "      display:flex;\n",
              "      flex-wrap:wrap;\n",
              "      gap: 12px;\n",
              "    }\n",
              "\n",
              "    .colab-df-convert {\n",
              "      background-color: #E8F0FE;\n",
              "      border: none;\n",
              "      border-radius: 50%;\n",
              "      cursor: pointer;\n",
              "      display: none;\n",
              "      fill: #1967D2;\n",
              "      height: 32px;\n",
              "      padding: 0 0 0 0;\n",
              "      width: 32px;\n",
              "    }\n",
              "\n",
              "    .colab-df-convert:hover {\n",
              "      background-color: #E2EBFA;\n",
              "      box-shadow: 0px 1px 2px rgba(60, 64, 67, 0.3), 0px 1px 3px 1px rgba(60, 64, 67, 0.15);\n",
              "      fill: #174EA6;\n",
              "    }\n",
              "\n",
              "    [theme=dark] .colab-df-convert {\n",
              "      background-color: #3B4455;\n",
              "      fill: #D2E3FC;\n",
              "    }\n",
              "\n",
              "    [theme=dark] .colab-df-convert:hover {\n",
              "      background-color: #434B5C;\n",
              "      box-shadow: 0px 1px 3px 1px rgba(0, 0, 0, 0.15);\n",
              "      filter: drop-shadow(0px 1px 2px rgba(0, 0, 0, 0.3));\n",
              "      fill: #FFFFFF;\n",
              "    }\n",
              "  </style>\n",
              "\n",
              "      <script>\n",
              "        const buttonEl =\n",
              "          document.querySelector('#df-34fc594a-ed04-4492-9d2c-243020bc56b5 button.colab-df-convert');\n",
              "        buttonEl.style.display =\n",
              "          google.colab.kernel.accessAllowed ? 'block' : 'none';\n",
              "\n",
              "        async function convertToInteractive(key) {\n",
              "          const element = document.querySelector('#df-34fc594a-ed04-4492-9d2c-243020bc56b5');\n",
              "          const dataTable =\n",
              "            await google.colab.kernel.invokeFunction('convertToInteractive',\n",
              "                                                     [key], {});\n",
              "          if (!dataTable) return;\n",
              "\n",
              "          const docLinkHtml = 'Like what you see? Visit the ' +\n",
              "            '<a target=\"_blank\" href=https://colab.research.google.com/notebooks/data_table.ipynb>data table notebook</a>'\n",
              "            + ' to learn more about interactive tables.';\n",
              "          element.innerHTML = '';\n",
              "          dataTable['output_type'] = 'display_data';\n",
              "          await google.colab.output.renderOutput(dataTable, element);\n",
              "          const docLink = document.createElement('div');\n",
              "          docLink.innerHTML = docLinkHtml;\n",
              "          element.appendChild(docLink);\n",
              "        }\n",
              "      </script>\n",
              "    </div>\n",
              "  </div>\n",
              "  "
            ]
          },
          "metadata": {},
          "execution_count": 6
        }
      ]
    },
    {
      "cell_type": "code",
      "source": [
        "data1.shape"
      ],
      "metadata": {
        "colab": {
          "base_uri": "https://localhost:8080/"
        },
        "id": "2soXFMV6buSh",
        "outputId": "147e4bcc-decf-4b37-e82e-d195547d9b32"
      },
      "execution_count": null,
      "outputs": [
        {
          "output_type": "execute_result",
          "data": {
            "text/plain": [
              "(74, 16)"
            ]
          },
          "metadata": {},
          "execution_count": 7
        }
      ]
    },
    {
      "cell_type": "code",
      "source": [
        "mfrv, mfrind = pd.factorize(data1['mfr'])\n",
        "data1['mfr'] = mfrv\n",
        "typev, typeind = pd.factorize(data1['type'])\n",
        "data1['type'] = typev"
      ],
      "metadata": {
        "colab": {
          "base_uri": "https://localhost:8080/"
        },
        "id": "ktUK2f8VBPOm",
        "outputId": "6e7a72d2-5f79-4853-8ead-2375ebfca125"
      },
      "execution_count": null,
      "outputs": [
        {
          "output_type": "stream",
          "name": "stderr",
          "text": [
            "<ipython-input-8-efa31578fa42>:2: SettingWithCopyWarning: \n",
            "A value is trying to be set on a copy of a slice from a DataFrame.\n",
            "Try using .loc[row_indexer,col_indexer] = value instead\n",
            "\n",
            "See the caveats in the documentation: https://pandas.pydata.org/pandas-docs/stable/user_guide/indexing.html#returning-a-view-versus-a-copy\n",
            "  data1['mfr'] = mfrv\n",
            "<ipython-input-8-efa31578fa42>:4: SettingWithCopyWarning: \n",
            "A value is trying to be set on a copy of a slice from a DataFrame.\n",
            "Try using .loc[row_indexer,col_indexer] = value instead\n",
            "\n",
            "See the caveats in the documentation: https://pandas.pydata.org/pandas-docs/stable/user_guide/indexing.html#returning-a-view-versus-a-copy\n",
            "  data1['type'] = typev\n"
          ]
        }
      ]
    },
    {
      "cell_type": "code",
      "source": [
        "X = data1.drop(columns = ['name', 'rating'])\n",
        "y = data1['rating']"
      ],
      "metadata": {
        "id": "AgaFA5ynC5hl"
      },
      "execution_count": null,
      "outputs": []
    },
    {
      "cell_type": "code",
      "source": [
        "corr_matrix = X.corr()\n",
        "plt.figure(figsize=(12,10))\n",
        "sns.heatmap(corr_matrix, annot=True)\n",
        "plt.show()"
      ],
      "metadata": {
        "colab": {
          "base_uri": "https://localhost:8080/",
          "height": 596
        },
        "id": "bzbVJl5zvfGC",
        "outputId": "b6e5aa6a-a6f7-4c79-8474-c42e48ebb576"
      },
      "execution_count": null,
      "outputs": [
        {
          "output_type": "display_data",
          "data": {
            "text/plain": [
              "<Figure size 864x720 with 2 Axes>"
            ],
            "image/png": "[encoded data removed]"
          },
          "metadata": {
            "needs_background": "light"
          }
        }
      ]
    },
    {
      "cell_type": "code",
      "source": [
        "from sklearn.model_selection import train_test_split\n",
        "X_train, X_test, y_train, y_test = train_test_split(X, y, test_size=0.30, random_state=42)"
      ],
      "metadata": {
        "id": "n5Y8qXzbG5VK"
      },
      "execution_count": null,
      "outputs": []
    },
    {
      "cell_type": "code",
      "source": [
        "from sklearn.preprocessing import StandardScaler\n",
        "sc = StandardScaler()\n",
        "X_train = sc.fit_transform(X_train)\n",
        "X_test = sc.transform(X_test)"
      ],
      "metadata": {
        "id": "11oJq8zxOVCX"
      },
      "execution_count": null,
      "outputs": []
    },
    {
      "cell_type": "code",
      "source": [
        "from sklearn.linear_model import Ridge\n",
        "ridge = Ridge()"
      ],
      "metadata": {
        "id": "w0rozVbaO7LU"
      },
      "execution_count": null,
      "outputs": []
    },
    {
      "cell_type": "code",
      "source": [
        "from sklearn.model_selection import GridSearchCV\n",
        "parameters = {'alpha':[0, 1e-5, 1e-4, 1e-3, 1e-2, 1, 5, 10, 20,100, 200, 300, 400, 500]}\n",
        "Ridge_reg = GridSearchCV(ridge, parameters, scoring='neg_mean_squared_error',cv=3)"
      ],
      "metadata": {
        "id": "ZTucaGOGPKUf"
      },
      "execution_count": null,
      "outputs": []
    },
    {
      "cell_type": "code",
      "source": [
        "Ridge_reg.fit(X_train,y_train)"
      ],
      "metadata": {
        "colab": {
          "base_uri": "https://localhost:8080/"
        },
        "id": "ia4YW3HHPDEG",
        "outputId": "62c7e461-4de7-4bed-c4b0-cb5a38eddc8c"
      },
      "execution_count": null,
      "outputs": [
        {
          "output_type": "execute_result",
          "data": {
            "text/plain": [
              "GridSearchCV(cv=3, estimator=Ridge(),\n",
              "             param_grid={'alpha': [0, 1e-05, 0.0001, 0.001, 0.01, 1, 5, 10, 20,\n",
              "                                   100, 200, 300, 400, 500]},\n",
              "             scoring='neg_mean_squared_error')"
            ]
          },
          "metadata": {},
          "execution_count": 15
        }
      ]
    },
    {
      "cell_type": "code",
      "source": [
        "print(Ridge_reg.best_params_)"
      ],
      "metadata": {
        "colab": {
          "base_uri": "https://localhost:8080/"
        },
        "id": "TbgIWORjQuku",
        "outputId": "584bbf78-22bf-4314-d1c5-15a5f1f12d2f"
      },
      "execution_count": null,
      "outputs": [
        {
          "output_type": "stream",
          "name": "stdout",
          "text": [
            "{'alpha': 0}\n"
          ]
        }
      ]
    },
    {
      "cell_type": "code",
      "source": [
        "from sklearn.linear_model import LinearRegression"
      ],
      "metadata": {
        "id": "yiuOnvTYpDrl"
      },
      "execution_count": null,
      "outputs": []
    },
    {
      "cell_type": "code",
      "source": [
        "reg_grid = LinearRegression()"
      ],
      "metadata": {
        "id": "-thRC4NrVPrx"
      },
      "execution_count": null,
      "outputs": []
    },
    {
      "cell_type": "code",
      "source": [
        "reg_grid.fit(X_train,y_train)"
      ],
      "metadata": {
        "colab": {
          "base_uri": "https://localhost:8080/"
        },
        "id": "u3Qn8ujTVsqQ",
        "outputId": "dc4771c1-c6e0-481a-cedd-b5835f017e4c"
      },
      "execution_count": null,
      "outputs": [
        {
          "output_type": "execute_result",
          "data": {
            "text/plain": [
              "LinearRegression()"
            ]
          },
          "metadata": {},
          "execution_count": 19
        }
      ]
    },
    {
      "cell_type": "code",
      "source": [
        "reg_grid.score(X_train,y_train)"
      ],
      "metadata": {
        "colab": {
          "base_uri": "https://localhost:8080/"
        },
        "id": "iNcCR9ddjlqP",
        "outputId": "b63a62df-36e5-4faa-ff72-8d4284ca8ef0"
      },
      "execution_count": null,
      "outputs": [
        {
          "output_type": "execute_result",
          "data": {
            "text/plain": [
              "0.9999999999999997"
            ]
          },
          "metadata": {},
          "execution_count": 20
        }
      ]
    },
    {
      "cell_type": "code",
      "source": [
        "reg_grid.score(X_test,y_test)"
      ],
      "metadata": {
        "colab": {
          "base_uri": "https://localhost:8080/"
        },
        "id": "D1tRzoiUj4Bm",
        "outputId": "7aa9cf4e-3f63-4b9e-9846-28ed49ccc9f2"
      },
      "execution_count": null,
      "outputs": [
        {
          "output_type": "execute_result",
          "data": {
            "text/plain": [
              "0.9999999999999994"
            ]
          },
          "metadata": {},
          "execution_count": 21
        }
      ]
    },
    {
      "cell_type": "code",
      "source": [
        "plt.barh(X.columns, reg_grid.coef_)\n",
        "plt.xlabel(\"Coeficientes del modelo de regresión\")"
      ],
      "metadata": {
        "colab": {
          "base_uri": "https://localhost:8080/",
          "height": 297
        },
        "id": "TNxgpC0Ehzdj",
        "outputId": "42e901b4-c14c-4bcb-cd5f-47a0c1650715"
      },
      "execution_count": null,
      "outputs": [
        {
          "output_type": "execute_result",
          "data": {
            "text/plain": [
              "Text(0.5, 0, 'Coeficientes del modelo de regresión')"
            ]
          },
          "metadata": {},
          "execution_count": 23
        },
        {
          "output_type": "display_data",
          "data": {
            "text/plain": [
              "<Figure size 432x288 with 1 Axes>"
            ],
            "image/png": "[encoded data removed]"
          },
          "metadata": {
            "needs_background": "light"
          }
        }
      ]
    },
    {
      "cell_type": "code",
      "source": [
        "sorted_idx = abs(reg_grid.coef_).argsort()\n",
        "plt.barh(X.columns[sorted_idx], abs(reg_grid.coef_)[sorted_idx])\n",
        "plt.xlabel(\"Valor absoluto de los coeficientes del modelo de regresión\")"
      ],
      "metadata": {
        "colab": {
          "base_uri": "https://localhost:8080/",
          "height": 297
        },
        "id": "FBwfZK4DUKRc",
        "outputId": "b0f3f06b-ed58-4658-c7a7-af8386b07801"
      },
      "execution_count": null,
      "outputs": [
        {
          "output_type": "execute_result",
          "data": {
            "text/plain": [
              "Text(0.5, 0, 'Valor absoluto de los coeficientes del modelo de regresión')"
            ]
          },
          "metadata": {},
          "execution_count": 24
        },
        {
          "output_type": "display_data",
          "data": {
            "text/plain": [
              "<Figure size 432x288 with 1 Axes>"
            ],
            "image/png": "[encoded data removed]"
          },
          "metadata": {
            "needs_background": "light"
          }
        }
      ]
    },
    {
      "cell_type": "markdown",
      "source": [
        "Inciso 2"
      ],
      "metadata": {
        "id": "c_22qdeeccaM"
      }
    },
    {
      "cell_type": "code",
      "source": [
        "# X = data1.drop(columns = ['name', 'rating'])\n",
        "X = data1.drop(columns = ['name', 'rating', 'type', 'mfr','cups','weight','shelf'])"
      ],
      "metadata": {
        "id": "AFsrFFDnlnCJ"
      },
      "execution_count": null,
      "outputs": []
    },
    {
      "cell_type": "code",
      "source": [
        "y.describe()"
      ],
      "metadata": {
        "colab": {
          "base_uri": "https://localhost:8080/"
        },
        "id": "De-94fIsiozg",
        "outputId": "50d6a1cb-9aaf-4d5e-f121-577a24cacba8"
      },
      "execution_count": null,
      "outputs": [
        {
          "output_type": "execute_result",
          "data": {
            "text/plain": [
              "count    74.000000\n",
              "mean     42.371787\n",
              "std      14.033712\n",
              "min      18.042851\n",
              "25%      32.449210\n",
              "50%      40.253086\n",
              "75%      50.520611\n",
              "max      93.704912\n",
              "Name: rating, dtype: float64"
            ]
          },
          "metadata": {},
          "execution_count": 26
        }
      ]
    },
    {
      "cell_type": "code",
      "source": [
        "plt.xlim(0, 100)\n",
        "a = plt.hist(y,20)\n",
        "plt.xlabel(\"Histograma de los ratings\")"
      ],
      "metadata": {
        "colab": {
          "base_uri": "https://localhost:8080/",
          "height": 296
        },
        "id": "ms6hZQbF2SNv",
        "outputId": "5c84f9de-2e4e-4291-d9ca-9b213beb85c4"
      },
      "execution_count": null,
      "outputs": [
        {
          "output_type": "execute_result",
          "data": {
            "text/plain": [
              "Text(0.5, 0, 'Histograma de los ratings')"
            ]
          },
          "metadata": {},
          "execution_count": 27
        },
        {
          "output_type": "display_data",
          "data": {
            "text/plain": [
              "<Figure size 432x288 with 1 Axes>"
            ],
            "image/png": "[encoded data removed]"
          },
          "metadata": {
            "needs_background": "light"
          }
        }
      ]
    },
    {
      "cell_type": "code",
      "source": [
        "p2_5 = np.percentile(y, 2.5)\n",
        "p97_5 = np.percentile(y, 97.5)"
      ],
      "metadata": {
        "id": "F1V3NWG00NuI"
      },
      "execution_count": null,
      "outputs": []
    },
    {
      "cell_type": "code",
      "source": [
        "X1 = X[(y >= p2_5) & (y <= p97_5)]\n",
        "y1 = y[(y >= p2_5) & (y <= p97_5)]\n",
        "nombres = data1.name.copy()\n",
        "nombres = nombres[(y >= p2_5) & (y <= p97_5)]"
      ],
      "metadata": {
        "id": "AOjMYO2-26Rt"
      },
      "execution_count": null,
      "outputs": []
    },
    {
      "cell_type": "code",
      "source": [
        "y1.describe()"
      ],
      "metadata": {
        "colab": {
          "base_uri": "https://localhost:8080/"
        },
        "id": "V5IIEZA5zbiE",
        "outputId": "2a75337e-6922-4305-8369-e52af0a77bdb"
      },
      "execution_count": null,
      "outputs": [
        {
          "output_type": "execute_result",
          "data": {
            "text/plain": [
              "count    70.000000\n",
              "mean     41.849542\n",
              "std      11.790444\n",
              "min      21.871292\n",
              "25%      33.376490\n",
              "50%      40.253086\n",
              "75%      49.718552\n",
              "max      72.801787\n",
              "Name: rating, dtype: float64"
            ]
          },
          "metadata": {},
          "execution_count": 30
        }
      ]
    },
    {
      "cell_type": "code",
      "source": [
        "plt.xlim(0, 100)\n",
        "a = plt.hist(y1,10)\n",
        "plt.xlabel(\"Histograma de los ratings acortado\")"
      ],
      "metadata": {
        "colab": {
          "base_uri": "https://localhost:8080/",
          "height": 296
        },
        "id": "CY9SPaHED4_p",
        "outputId": "577f7f58-b39f-4b95-ceb4-1b3289df627e"
      },
      "execution_count": null,
      "outputs": [
        {
          "output_type": "execute_result",
          "data": {
            "text/plain": [
              "Text(0.5, 0, 'Histograma de los ratings acortado')"
            ]
          },
          "metadata": {},
          "execution_count": 31
        },
        {
          "output_type": "display_data",
          "data": {
            "text/plain": [
              "<Figure size 432x288 with 1 Axes>"
            ],
            "image/png": "[encoded data removed]"
          },
          "metadata": {
            "needs_background": "light"
          }
        }
      ]
    },
    {
      "cell_type": "code",
      "source": [
        "y2 = pd.cut(y1, 3, retbins=True)[0]"
      ],
      "metadata": {
        "id": "MkqpToowzWMc"
      },
      "execution_count": null,
      "outputs": []
    },
    {
      "cell_type": "code",
      "source": [
        "y2"
      ],
      "metadata": {
        "colab": {
          "base_uri": "https://localhost:8080/"
        },
        "id": "aSd2ZJIyzexj",
        "outputId": "4c1f9e28-a227-4520-cd3e-ff7aa76aa2a9"
      },
      "execution_count": null,
      "outputs": [
        {
          "output_type": "execute_result",
          "data": {
            "text/plain": [
              "0     (55.825, 72.802]\n",
              "1      (21.82, 38.848]\n",
              "2     (55.825, 72.802]\n",
              "5      (21.82, 38.848]\n",
              "6      (21.82, 38.848]\n",
              "            ...       \n",
              "72    (38.848, 55.825]\n",
              "73     (21.82, 38.848]\n",
              "74    (38.848, 55.825]\n",
              "75    (38.848, 55.825]\n",
              "76     (21.82, 38.848]\n",
              "Name: rating, Length: 70, dtype: category\n",
              "Categories (3, interval[float64, right]): [(21.82, 38.848] < (38.848, 55.825] < (55.825, 72.802]]"
            ]
          },
          "metadata": {},
          "execution_count": 33
        }
      ]
    },
    {
      "cell_type": "code",
      "source": [
        "y2.value_counts()"
      ],
      "metadata": {
        "colab": {
          "base_uri": "https://localhost:8080/"
        },
        "id": "Kc88jQdEzk-D",
        "outputId": "2246e1eb-d281-4f49-87aa-4cebd4a3bff2"
      },
      "execution_count": null,
      "outputs": [
        {
          "output_type": "execute_result",
          "data": {
            "text/plain": [
              "(38.848, 55.825]    31\n",
              "(21.82, 38.848]     30\n",
              "(55.825, 72.802]     9\n",
              "Name: rating, dtype: int64"
            ]
          },
          "metadata": {},
          "execution_count": 34
        }
      ]
    },
    {
      "cell_type": "code",
      "source": [
        "Y1 = y2.cat.codes"
      ],
      "metadata": {
        "id": "ORvn7M31zpZr"
      },
      "execution_count": null,
      "outputs": []
    },
    {
      "cell_type": "code",
      "source": [
        "ranged_label_dict = dict(zip(y2.cat.codes.sort_values().unique(), y2.cat.categories))\n",
        "ranged_label_dict"
      ],
      "metadata": {
        "colab": {
          "base_uri": "https://localhost:8080/"
        },
        "id": "ym1XATC1z0s4",
        "outputId": "6aa1312b-0755-4581-81c7-fcfbab89d524"
      },
      "execution_count": null,
      "outputs": [
        {
          "output_type": "execute_result",
          "data": {
            "text/plain": [
              "{0: Interval(21.82, 38.848, closed='right'),\n",
              " 1: Interval(38.848, 55.825, closed='right'),\n",
              " 2: Interval(55.825, 72.802, closed='right')}"
            ]
          },
          "metadata": {},
          "execution_count": 36
        }
      ]
    },
    {
      "cell_type": "code",
      "source": [
        "Y1.head(7)"
      ],
      "metadata": {
        "colab": {
          "base_uri": "https://localhost:8080/"
        },
        "id": "C7KVYjPIEWYY",
        "outputId": "b24ae7b0-ef4a-4991-ffb4-2c3f83f1a948"
      },
      "execution_count": null,
      "outputs": [
        {
          "output_type": "execute_result",
          "data": {
            "text/plain": [
              "0    2\n",
              "1    0\n",
              "2    2\n",
              "5    0\n",
              "6    0\n",
              "7    0\n",
              "8    1\n",
              "dtype: int8"
            ]
          },
          "metadata": {},
          "execution_count": 37
        }
      ]
    },
    {
      "cell_type": "code",
      "source": [
        "X2 = X1[(nombres != 'Maypo') & (nombres != 'Quaker Oat Squares') & (nombres != 'Trix')]\n",
        "Y2 = Y1[(nombres != 'Maypo') & (nombres != 'Quaker Oat Squares') & (nombres != 'Trix')]"
      ],
      "metadata": {
        "id": "xHi2ot2HynW9"
      },
      "execution_count": null,
      "outputs": []
    },
    {
      "cell_type": "code",
      "source": [
        "X2.shape"
      ],
      "metadata": {
        "colab": {
          "base_uri": "https://localhost:8080/"
        },
        "id": "NdG2T0SOk8So",
        "outputId": "f1f011fd-740e-4c16-da6b-671a276a2277"
      },
      "execution_count": null,
      "outputs": [
        {
          "output_type": "execute_result",
          "data": {
            "text/plain": [
              "(67, 9)"
            ]
          },
          "metadata": {},
          "execution_count": 39
        }
      ]
    },
    {
      "cell_type": "code",
      "source": [
        "X_train, X_test, y_train, y_test = train_test_split(X2, Y2, test_size=0.25, stratify=Y2, random_state=42)"
      ],
      "metadata": {
        "id": "hRrOi6dh3J6_"
      },
      "execution_count": null,
      "outputs": []
    },
    {
      "cell_type": "code",
      "source": [
        "sc = StandardScaler()"
      ],
      "metadata": {
        "id": "v9DDcvES4TRc"
      },
      "execution_count": null,
      "outputs": []
    },
    {
      "cell_type": "code",
      "source": [
        "X_train = sc.fit_transform(X_train)\n",
        "X_test = sc.transform(X_test)\n",
        "X1 = sc.transform(X1)"
      ],
      "metadata": {
        "id": "0Q-XFZjV6sa6"
      },
      "execution_count": null,
      "outputs": []
    },
    {
      "cell_type": "code",
      "source": [
        "from sklearn.svm import SVC\n",
        "from sklearn.neighbors import KNeighborsClassifier"
      ],
      "metadata": {
        "id": "dUHJupNv3kiI"
      },
      "execution_count": null,
      "outputs": []
    },
    {
      "cell_type": "code",
      "source": [
        "from sklearn.model_selection import GridSearchCV\n",
        "param_grid = {'C': [0.1, 0.5, 1, 10, 100], 'gamma': [1,0.1,0.01,0.001], 'kernel': ['linear', 'rbf', 'poly', 'sigmoid']}\n",
        "clfSVC = SVC(random_state=42)"
      ],
      "metadata": {
        "id": "wtRKlR3u5GEH"
      },
      "execution_count": null,
      "outputs": []
    },
    {
      "cell_type": "code",
      "source": [
        "grid = GridSearchCV(estimator = clfSVC, param_grid = param_grid, refit=True, verbose=1, cv = 3)"
      ],
      "metadata": {
        "id": "a2Ak7tWe63Vd"
      },
      "execution_count": null,
      "outputs": []
    },
    {
      "cell_type": "code",
      "source": [
        "grid.fit(X_train,y_train)"
      ],
      "metadata": {
        "colab": {
          "base_uri": "https://localhost:8080/"
        },
        "id": "lqtkAShI7Rn1",
        "outputId": "aba11a7f-0023-44cd-a12a-0d9a30128159"
      },
      "execution_count": null,
      "outputs": [
        {
          "output_type": "stream",
          "name": "stdout",
          "text": [
            "Fitting 3 folds for each of 80 candidates, totalling 240 fits\n"
          ]
        },
        {
          "output_type": "execute_result",
          "data": {
            "text/plain": [
              "GridSearchCV(cv=3, estimator=SVC(random_state=42),\n",
              "             param_grid={'C': [0.1, 0.5, 1, 10, 100],\n",
              "                         'gamma': [1, 0.1, 0.01, 0.001],\n",
              "                         'kernel': ['linear', 'rbf', 'poly', 'sigmoid']},\n",
              "             verbose=1)"
            ]
          },
          "metadata": {},
          "execution_count": 46
        }
      ]
    },
    {
      "cell_type": "code",
      "source": [
        "print(grid.best_params_)"
      ],
      "metadata": {
        "colab": {
          "base_uri": "https://localhost:8080/"
        },
        "id": "t0DQVdOK8OYd",
        "outputId": "182dcb60-0b55-453a-9d2d-2ab417bcf4dc"
      },
      "execution_count": null,
      "outputs": [
        {
          "output_type": "stream",
          "name": "stdout",
          "text": [
            "{'C': 100, 'gamma': 0.001, 'kernel': 'rbf'}\n"
          ]
        }
      ]
    },
    {
      "cell_type": "code",
      "source": [
        "clfSVC_grid = SVC(C=100, gamma=0.001, kernel='rbf', random_state=42)"
      ],
      "metadata": {
        "id": "3X7BI5zs8baV"
      },
      "execution_count": null,
      "outputs": []
    },
    {
      "cell_type": "code",
      "source": [
        "knn = KNeighborsClassifier()\n",
        "k_range = list(range(1, 21))\n",
        "param_grid2 = dict(n_neighbors = k_range)"
      ],
      "metadata": {
        "id": "qMEaGSj5-C0R"
      },
      "execution_count": null,
      "outputs": []
    },
    {
      "cell_type": "code",
      "source": [
        "grid2 = GridSearchCV(estimator = knn, param_grid = param_grid2, cv=3, refit=True, verbose=1)"
      ],
      "metadata": {
        "id": "BZQaQvy0IAEa"
      },
      "execution_count": null,
      "outputs": []
    },
    {
      "cell_type": "code",
      "source": [
        "grid2.fit(X_train, y_train)"
      ],
      "metadata": {
        "colab": {
          "base_uri": "https://localhost:8080/"
        },
        "id": "v85eKqoUH6q6",
        "outputId": "26d7cb35-f871-4c62-99c4-e43c82092cbe"
      },
      "execution_count": null,
      "outputs": [
        {
          "output_type": "stream",
          "name": "stdout",
          "text": [
            "Fitting 3 folds for each of 20 candidates, totalling 60 fits\n"
          ]
        },
        {
          "output_type": "execute_result",
          "data": {
            "text/plain": [
              "GridSearchCV(cv=3, estimator=KNeighborsClassifier(),\n",
              "             param_grid={'n_neighbors': [1, 2, 3, 4, 5, 6, 7, 8, 9, 10, 11, 12,\n",
              "                                         13, 14, 15, 16, 17, 18, 19, 20]},\n",
              "             verbose=1)"
            ]
          },
          "metadata": {},
          "execution_count": 51
        }
      ]
    },
    {
      "cell_type": "code",
      "source": [
        "print(grid2.best_params_)"
      ],
      "metadata": {
        "colab": {
          "base_uri": "https://localhost:8080/"
        },
        "id": "nfV6IKDhItVJ",
        "outputId": "a452533a-f7a7-43ba-97a1-55d8042a2668"
      },
      "execution_count": null,
      "outputs": [
        {
          "output_type": "stream",
          "name": "stdout",
          "text": [
            "{'n_neighbors': 3}\n"
          ]
        }
      ]
    },
    {
      "cell_type": "code",
      "source": [
        "knn_grid = KNeighborsClassifier(n_neighbors=3)"
      ],
      "metadata": {
        "id": "fpjPnB_INUWG"
      },
      "execution_count": null,
      "outputs": []
    },
    {
      "cell_type": "code",
      "source": [
        "from sklearn.model_selection import cross_val_score"
      ],
      "metadata": {
        "id": "ZAKmZDSpNn9d"
      },
      "execution_count": null,
      "outputs": []
    },
    {
      "cell_type": "code",
      "source": [
        "cross_validation_result1 = cross_val_score(clfSVC_grid, X_train,y_train, cv = 3, scoring = 'accuracy')\n",
        "cross_validation_result2 = cross_val_score(knn_grid, X_train, y_train, cv = 3, scoring = 'accuracy')\n",
        "print(cross_validation_result1.mean(), cross_validation_result2.mean())"
      ],
      "metadata": {
        "colab": {
          "base_uri": "https://localhost:8080/"
        },
        "id": "bskmYuNbI5nW",
        "outputId": "76665027-4077-4ac6-d09c-3302ad789ecc"
      },
      "execution_count": null,
      "outputs": [
        {
          "output_type": "stream",
          "name": "stdout",
          "text": [
            "0.8811274509803922 0.8811274509803922\n"
          ]
        }
      ]
    },
    {
      "cell_type": "code",
      "source": [
        "cross_validation_result1"
      ],
      "metadata": {
        "colab": {
          "base_uri": "https://localhost:8080/"
        },
        "id": "rNJENcQeb2BF",
        "outputId": "8fffaf52-85a2-4e16-85ea-4007b258eb27"
      },
      "execution_count": null,
      "outputs": [
        {
          "output_type": "execute_result",
          "data": {
            "text/plain": [
              "array([0.76470588, 0.94117647, 0.9375    ])"
            ]
          },
          "metadata": {},
          "execution_count": 57
        }
      ]
    },
    {
      "cell_type": "code",
      "source": [
        "cross_validation_result2"
      ],
      "metadata": {
        "colab": {
          "base_uri": "https://localhost:8080/"
        },
        "id": "ldPkxkmub5Fd",
        "outputId": "5c6724c6-2818-446c-dfbb-a88074be2bb5"
      },
      "execution_count": null,
      "outputs": [
        {
          "output_type": "execute_result",
          "data": {
            "text/plain": [
              "array([0.82352941, 0.88235294, 0.9375    ])"
            ]
          },
          "metadata": {},
          "execution_count": 58
        }
      ]
    },
    {
      "cell_type": "code",
      "source": [
        "clfSVC_grid.fit(X_train,y_train)"
      ],
      "metadata": {
        "colab": {
          "base_uri": "https://localhost:8080/"
        },
        "id": "9Yz2T1VrLlsX",
        "outputId": "7b48a98f-635e-4e91-94bd-6d083ba3f6dd"
      },
      "execution_count": null,
      "outputs": [
        {
          "output_type": "execute_result",
          "data": {
            "text/plain": [
              "SVC(C=100, gamma=0.001, random_state=42)"
            ]
          },
          "metadata": {},
          "execution_count": 59
        }
      ]
    },
    {
      "cell_type": "code",
      "source": [
        "prediccion = clfSVC_grid.predict(X1)"
      ],
      "metadata": {
        "id": "IeGIzYMfN24k"
      },
      "execution_count": null,
      "outputs": []
    },
    {
      "cell_type": "code",
      "source": [
        "clfSVC_grid.score(X_train,y_train)"
      ],
      "metadata": {
        "colab": {
          "base_uri": "https://localhost:8080/"
        },
        "id": "g4LMqCetmgoW",
        "outputId": "aad68e8f-9727-4683-db19-a3ebe51fd22e"
      },
      "execution_count": null,
      "outputs": [
        {
          "output_type": "execute_result",
          "data": {
            "text/plain": [
              "0.94"
            ]
          },
          "metadata": {},
          "execution_count": 61
        }
      ]
    },
    {
      "cell_type": "code",
      "source": [
        "clfSVC_grid.score(X_test,y_test)"
      ],
      "metadata": {
        "colab": {
          "base_uri": "https://localhost:8080/"
        },
        "id": "_h_q-cscipTb",
        "outputId": "7e48f661-9bcd-4e47-d009-ac90c6c81829"
      },
      "execution_count": null,
      "outputs": [
        {
          "output_type": "execute_result",
          "data": {
            "text/plain": [
              "0.9411764705882353"
            ]
          },
          "metadata": {},
          "execution_count": 62
        }
      ]
    },
    {
      "cell_type": "code",
      "source": [
        "print('original asignado:', np.array(Y1[(nombres == 'Maypo')])[0],'   predicción:', prediccion[(nombres == 'Maypo')][0])\n",
        "print('original asignado:', np.array(Y1[(nombres == 'Trix')])[0],'   predicción:', prediccion[(nombres == 'Trix')][0])\n",
        "print('original asignado:', np.array(Y1[(nombres == 'Quaker Oat Squares')])[0],'   predicción:', prediccion[(nombres == 'Quaker Oat Squares')][0])"
      ],
      "metadata": {
        "colab": {
          "base_uri": "https://localhost:8080/"
        },
        "id": "r9TalbooQKOj",
        "outputId": "d5e2b35b-c880-444b-e704-5ce6e52652d9"
      },
      "execution_count": null,
      "outputs": [
        {
          "output_type": "stream",
          "name": "stdout",
          "text": [
            "original asignado: 1    predicción: 1\n",
            "original asignado: 0    predicción: 0\n",
            "original asignado: 1    predicción: 1\n"
          ]
        }
      ]
    },
    {
      "cell_type": "code",
      "source": [
        "categoria = { 0: 'malo', 1: 'decente', 2 : 'bueno'}"
      ],
      "metadata": {
        "id": "B3a13bPkTGhY"
      },
      "execution_count": null,
      "outputs": []
    },
    {
      "cell_type": "code",
      "source": [
        "print('Maypo es un producto', categoria[prediccion[(nombres == 'Maypo')][0]])\n",
        "print('Trix es un producto', categoria[prediccion[(nombres == 'Trix')][0]])\n",
        "print('Quaker Oat Squares', categoria[prediccion[(nombres == 'Quaker Oat Squares')][0]])"
      ],
      "metadata": {
        "colab": {
          "base_uri": "https://localhost:8080/"
        },
        "id": "5kFhXfw8UlWW",
        "outputId": "355abec3-7d3d-423f-a42d-6f6432d9b4e2"
      },
      "execution_count": null,
      "outputs": [
        {
          "output_type": "stream",
          "name": "stdout",
          "text": [
            "Maypo es un producto decente\n",
            "Trix es un producto malo\n",
            "Quaker Oat Squares decente\n"
          ]
        }
      ]
    },
    {
      "cell_type": "code",
      "source": [
        "data1.rating[data1.name=='Maypo']"
      ],
      "metadata": {
        "colab": {
          "base_uri": "https://localhost:8080/"
        },
        "id": "ZIwAfXQX5y7f",
        "outputId": "e2877b0d-7c04-4ed4-df1f-b4f2df2dbef7"
      },
      "execution_count": null,
      "outputs": [
        {
          "output_type": "execute_result",
          "data": {
            "text/plain": [
              "43    54.850917\n",
              "Name: rating, dtype: float64"
            ]
          },
          "metadata": {},
          "execution_count": 66
        }
      ]
    },
    {
      "cell_type": "code",
      "source": [
        "data1.rating[data1.name=='Trix']"
      ],
      "metadata": {
        "colab": {
          "base_uri": "https://localhost:8080/"
        },
        "id": "OZiBmqLy597N",
        "outputId": "ba708358-0a7b-4f15-a9c0-54653a642f1a"
      },
      "execution_count": null,
      "outputs": [
        {
          "output_type": "execute_result",
          "data": {
            "text/plain": [
              "73    27.753301\n",
              "Name: rating, dtype: float64"
            ]
          },
          "metadata": {},
          "execution_count": 67
        }
      ]
    },
    {
      "cell_type": "code",
      "source": [
        "data1.rating[data1.name=='Quaker Oat Squares']"
      ],
      "metadata": {
        "id": "SDym8JSz6A_d",
        "outputId": "5acd4427-0e3c-4001-d65a-0d04c8858744",
        "colab": {
          "base_uri": "https://localhost:8080/"
        }
      },
      "execution_count": null,
      "outputs": [
        {
          "output_type": "execute_result",
          "data": {
            "text/plain": [
              "56    49.511874\n",
              "Name: rating, dtype: float64"
            ]
          },
          "metadata": {},
          "execution_count": 68
        }
      ]
    }
  ]
}